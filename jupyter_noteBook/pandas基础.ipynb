{
 "cells": [
  {
   "cell_type": "code",
   "execution_count": 47,
   "metadata": {},
   "outputs": [
    {
     "data": {
      "image/png": "[encoded data removed]",
      "text/plain": [
       "<matplotlib.figure.Figure at 0xd071710>"
      ]
     },
     "metadata": {},
     "output_type": "display_data"
    }
   ],
   "source": [
    "import pandas as pd\n",
    "import numpy as np\n",
    "import matplotlib.pyplot as plt\n",
    "\n",
    "data = {\n",
    "    'DATE':['2017/01','2017/02','2017/03','2017/04','2017/05','2017/06','2017/07','2017/08','2017/09','2017/10','2017/11','2017/12'],\n",
    "    'rate':[2.4,3,4,2,1.5,3.2,1.5,3.1,3.9,2.4,3,2.7]\n",
    "}\n",
    "plt.plot(data['DATE'],data['rate'])\n",
    "plt.xticks(rotation=45)\n",
    "plt.xlabel('Month')\n",
    "plt.ylabel('Rate')\n",
    "plt.title(u'2017')\n",
    "#plt.show()\n",
    "plt.savefig('one.png')"
   ]
  },
  {
   "cell_type": "code",
   "execution_count": 45,
   "metadata": {},
   "outputs": [
    {
     "name": "stdout",
     "output_type": "stream",
     "text": [
      "DatetimeIndex(['2013-01-01', '2013-01-02', '2013-01-03', '2013-01-04',\n",
      "               '2013-01-05', '2013-01-06'],\n",
      "              dtype='datetime64[ns]', freq='D')\n"
     ]
    }
   ],
   "source": [
    "dates = pd.date_range('20130101',periods=6)\n",
    "print(dates)"
   ]
  },
  {
   "cell_type": "code",
   "execution_count": 69,
   "metadata": {},
   "outputs": [
    {
     "name": "stdout",
     "output_type": "stream",
     "text": [
      "                   A         B         C         D\n",
      "2013-01-01 -0.973772 -1.155747  1.417846  0.768037\n",
      "2013-01-02  2.355028  0.558283 -0.776693 -1.980178\n",
      "2013-01-03 -0.688987  0.438071  0.901540  0.265073\n",
      "2013-01-04 -0.651374 -0.467439  0.776919 -1.635981\n",
      "2013-01-05 -1.251646 -0.827207 -0.296087  1.290872\n",
      "2013-01-06 -2.795756  1.960629 -0.114772 -0.139755\n",
      "[[-0.71948208 -1.03543099  1.31273376 -2.20079074  0.16802419 -1.00685331\n",
      "  -0.24013158  0.17018939]\n",
      " [-0.61697065 -1.19562036  1.31146197 -0.37341288  0.22397014 -1.01648423\n",
      "   0.28970132  1.36629011]\n",
      " [ 0.00615542  0.73370292  0.54056481  0.05241242 -1.20005166 -0.61199931\n",
      "   0.27386465 -0.31424627]]\n"
     ]
    }
   ],
   "source": [
    "df = pd.DataFrame(np.random.randn(6,4),index=dates,columns=list('ABCD'))\n",
    "print(df)\n",
    "#生成3行8列的随机数\n",
    "print(np.random.randn(3,8))"
   ]
  },
  {
   "cell_type": "code",
   "execution_count": 60,
   "metadata": {},
   "outputs": [
    {
     "name": "stdout",
     "output_type": "stream",
     "text": [
      "     A          B    C  D      E    F\n",
      "0  1.0 2012-01-01  1.0  3   test  foo\n",
      "1  1.0 2012-01-01  1.0  3  train  foo\n",
      "2  1.0 2012-01-01  1.0  3   test  foo\n",
      "3  1.0 2012-01-01  1.0  3  train  foo\n",
      "A           float64\n",
      "B    datetime64[ns]\n",
      "C           float32\n",
      "D             int32\n",
      "E          category\n",
      "F            object\n",
      "dtype: object\n"
     ]
    }
   ],
   "source": [
    "df2 = pd.DataFrame({'A':1.,\n",
    "                    'B':pd.Timestamp('20120101'),\n",
    "                    'C':pd.Series(1,index=list(range(4)),dtype='float32'),\n",
    "                    'D':np.array([3]*4,dtype='int32'),\n",
    "                    'E':pd.Categorical(['test','train','test','train']),\n",
    "                    'F':'foo'\n",
    "                   })\n",
    "print(df2)\n",
    "print(df2.dtypes)"
   ]
  },
  {
   "cell_type": "code",
   "execution_count": 66,
   "metadata": {},
   "outputs": [
    {
     "data": {
      "text/html": [
       "<div>\n",
       "<style scoped>\n",
       "    .dataframe tbody tr th:only-of-type {\n",
       "        vertical-align: middle;\n",
       "    }\n",
       "\n",
       "    .dataframe tbody tr th {\n",
       "        vertical-align: top;\n",
       "    }\n",
       "\n",
       "    .dataframe thead th {\n",
       "        text-align: right;\n",
       "    }\n",
       "</style>\n",
       "<table border=\"1\" class=\"dataframe\">\n",
       "  <thead>\n",
       "    <tr style=\"text-align: right;\">\n",
       "      <th></th>\n",
       "      <th>a</th>\n",
       "      <th>b</th>\n",
       "      <th>c</th>\n",
       "      <th>d</th>\n",
       "    </tr>\n",
       "  </thead>\n",
       "  <tbody>\n",
       "    <tr>\n",
       "      <th>2013-01-01</th>\n",
       "      <td>-1.817813</td>\n",
       "      <td>0.641786</td>\n",
       "      <td>-1.224910</td>\n",
       "      <td>-0.219016</td>\n",
       "    </tr>\n",
       "    <tr>\n",
       "      <th>2013-01-02</th>\n",
       "      <td>-0.522545</td>\n",
       "      <td>1.312563</td>\n",
       "      <td>0.512880</td>\n",
       "      <td>-0.797067</td>\n",
       "    </tr>\n",
       "    <tr>\n",
       "      <th>2013-01-03</th>\n",
       "      <td>-1.228482</td>\n",
       "      <td>-1.371741</td>\n",
       "      <td>-0.535386</td>\n",
       "      <td>-1.728914</td>\n",
       "    </tr>\n",
       "    <tr>\n",
       "      <th>2013-01-04</th>\n",
       "      <td>-0.356039</td>\n",
       "      <td>-0.608978</td>\n",
       "      <td>0.540777</td>\n",
       "      <td>1.553431</td>\n",
       "    </tr>\n",
       "    <tr>\n",
       "      <th>2013-01-05</th>\n",
       "      <td>0.276847</td>\n",
       "      <td>1.405498</td>\n",
       "      <td>2.083851</td>\n",
       "      <td>-1.500505</td>\n",
       "    </tr>\n",
       "  </tbody>\n",
       "</table>\n",
       "</div>"
      ],
      "text/plain": [
       "                   a         b         c         d\n",
       "2013-01-01 -1.817813  0.641786 -1.224910 -0.219016\n",
       "2013-01-02 -0.522545  1.312563  0.512880 -0.797067\n",
       "2013-01-03 -1.228482 -1.371741 -0.535386 -1.728914\n",
       "2013-01-04 -0.356039 -0.608978  0.540777  1.553431\n",
       "2013-01-05  0.276847  1.405498  2.083851 -1.500505"
      ]
     },
     "execution_count": 66,
     "metadata": {},
     "output_type": "execute_result"
    }
   ],
   "source": [
    "df.head()"
   ]
  },
  {
   "cell_type": "code",
   "execution_count": 67,
   "metadata": {},
   "outputs": [
    {
     "data": {
      "text/html": [
       "<div>\n",
       "<style scoped>\n",
       "    .dataframe tbody tr th:only-of-type {\n",
       "        vertical-align: middle;\n",
       "    }\n",
       "\n",
       "    .dataframe tbody tr th {\n",
       "        vertical-align: top;\n",
       "    }\n",
       "\n",
       "    .dataframe thead th {\n",
       "        text-align: right;\n",
       "    }\n",
       "</style>\n",
       "<table border=\"1\" class=\"dataframe\">\n",
       "  <thead>\n",
       "    <tr style=\"text-align: right;\">\n",
       "      <th></th>\n",
       "      <th>a</th>\n",
       "      <th>b</th>\n",
       "      <th>c</th>\n",
       "      <th>d</th>\n",
       "    </tr>\n",
       "  </thead>\n",
       "  <tbody>\n",
       "    <tr>\n",
       "      <th>count</th>\n",
       "      <td>6.000000</td>\n",
       "      <td>6.000000</td>\n",
       "      <td>6.000000</td>\n",
       "      <td>6.000000</td>\n",
       "    </tr>\n",
       "    <tr>\n",
       "      <th>mean</th>\n",
       "      <td>-0.597690</td>\n",
       "      <td>-0.023264</td>\n",
       "      <td>0.068402</td>\n",
       "      <td>-0.376546</td>\n",
       "    </tr>\n",
       "    <tr>\n",
       "      <th>std</th>\n",
       "      <td>0.793789</td>\n",
       "      <td>1.316503</td>\n",
       "      <td>1.232200</td>\n",
       "      <td>1.238844</td>\n",
       "    </tr>\n",
       "    <tr>\n",
       "      <th>min</th>\n",
       "      <td>-1.817813</td>\n",
       "      <td>-1.518714</td>\n",
       "      <td>-1.224910</td>\n",
       "      <td>-1.728914</td>\n",
       "    </tr>\n",
       "    <tr>\n",
       "      <th>25%</th>\n",
       "      <td>-1.051998</td>\n",
       "      <td>-1.181050</td>\n",
       "      <td>-0.858946</td>\n",
       "      <td>-1.324645</td>\n",
       "    </tr>\n",
       "    <tr>\n",
       "      <th>50%</th>\n",
       "      <td>-0.439292</td>\n",
       "      <td>0.016404</td>\n",
       "      <td>-0.011253</td>\n",
       "      <td>-0.508042</td>\n",
       "    </tr>\n",
       "    <tr>\n",
       "      <th>75%</th>\n",
       "      <td>-0.042589</td>\n",
       "      <td>1.144869</td>\n",
       "      <td>0.533803</td>\n",
       "      <td>0.269841</td>\n",
       "    </tr>\n",
       "    <tr>\n",
       "      <th>max</th>\n",
       "      <td>0.276847</td>\n",
       "      <td>1.405498</td>\n",
       "      <td>2.083851</td>\n",
       "      <td>1.553431</td>\n",
       "    </tr>\n",
       "  </tbody>\n",
       "</table>\n",
       "</div>"
      ],
      "text/plain": [
       "              a         b         c         d\n",
       "count  6.000000  6.000000  6.000000  6.000000\n",
       "mean  -0.597690 -0.023264  0.068402 -0.376546\n",
       "std    0.793789  1.316503  1.232200  1.238844\n",
       "min   -1.817813 -1.518714 -1.224910 -1.728914\n",
       "25%   -1.051998 -1.181050 -0.858946 -1.324645\n",
       "50%   -0.439292  0.016404 -0.011253 -0.508042\n",
       "75%   -0.042589  1.144869  0.533803  0.269841\n",
       "max    0.276847  1.405498  2.083851  1.553431"
      ]
     },
     "execution_count": 67,
     "metadata": {},
     "output_type": "execute_result"
    }
   ],
   "source": [
    "df.describe()"
   ]
  },
  {
   "cell_type": "code",
   "execution_count": 71,
   "metadata": {},
   "outputs": [
    {
     "data": {
      "text/plain": [
       "2013-01-01   -0.973772\n",
       "2013-01-02    2.355028\n",
       "2013-01-03   -0.688987\n",
       "2013-01-04   -0.651374\n",
       "2013-01-05   -1.251646\n",
       "2013-01-06   -2.795756\n",
       "Freq: D, Name: A, dtype: float64"
      ]
     },
     "execution_count": 71,
     "metadata": {},
     "output_type": "execute_result"
    }
   ],
   "source": [
    "df['A']"
   ]
  },
  {
   "cell_type": "code",
   "execution_count": 74,
   "metadata": {},
   "outputs": [
    {
     "data": {
      "text/html": [
       "<div>\n",
       "<style scoped>\n",
       "    .dataframe tbody tr th:only-of-type {\n",
       "        vertical-align: middle;\n",
       "    }\n",
       "\n",
       "    .dataframe tbody tr th {\n",
       "        vertical-align: top;\n",
       "    }\n",
       "\n",
       "    .dataframe thead th {\n",
       "        text-align: right;\n",
       "    }\n",
       "</style>\n",
       "<table border=\"1\" class=\"dataframe\">\n",
       "  <thead>\n",
       "    <tr style=\"text-align: right;\">\n",
       "      <th></th>\n",
       "      <th>A</th>\n",
       "      <th>B</th>\n",
       "      <th>C</th>\n",
       "      <th>D</th>\n",
       "    </tr>\n",
       "  </thead>\n",
       "  <tbody>\n",
       "    <tr>\n",
       "      <th>2013-01-01</th>\n",
       "      <td>-0.973772</td>\n",
       "      <td>-1.155747</td>\n",
       "      <td>1.417846</td>\n",
       "      <td>0.768037</td>\n",
       "    </tr>\n",
       "    <tr>\n",
       "      <th>2013-01-02</th>\n",
       "      <td>2.355028</td>\n",
       "      <td>0.558283</td>\n",
       "      <td>-0.776693</td>\n",
       "      <td>-1.980178</td>\n",
       "    </tr>\n",
       "    <tr>\n",
       "      <th>2013-01-03</th>\n",
       "      <td>-0.688987</td>\n",
       "      <td>0.438071</td>\n",
       "      <td>0.901540</td>\n",
       "      <td>0.265073</td>\n",
       "    </tr>\n",
       "  </tbody>\n",
       "</table>\n",
       "</div>"
      ],
      "text/plain": [
       "                   A         B         C         D\n",
       "2013-01-01 -0.973772 -1.155747  1.417846  0.768037\n",
       "2013-01-02  2.355028  0.558283 -0.776693 -1.980178\n",
       "2013-01-03 -0.688987  0.438071  0.901540  0.265073"
      ]
     },
     "execution_count": 74,
     "metadata": {},
     "output_type": "execute_result"
    }
   ],
   "source": [
    "df[0:3]"
   ]
  },
  {
   "cell_type": "code",
   "execution_count": 77,
   "metadata": {},
   "outputs": [
    {
     "data": {
      "text/plain": [
       "A   -0.973772\n",
       "B   -1.155747\n",
       "C    1.417846\n",
       "D    0.768037\n",
       "Name: 2013-01-01 00:00:00, dtype: float64"
      ]
     },
     "execution_count": 77,
     "metadata": {},
     "output_type": "execute_result"
    }
   ],
   "source": [
    "df.loc[dates[0]]"
   ]
  },
  {
   "cell_type": "markdown",
   "metadata": {},
   "source": [
    "行全部取出，列取出A和B"
   ]
  },
  {
   "cell_type": "code",
   "execution_count": 79,
   "metadata": {
    "scrolled": true
   },
   "outputs": [
    {
     "data": {
      "text/html": [
       "<div>\n",
       "<style scoped>\n",
       "    .dataframe tbody tr th:only-of-type {\n",
       "        vertical-align: middle;\n",
       "    }\n",
       "\n",
       "    .dataframe tbody tr th {\n",
       "        vertical-align: top;\n",
       "    }\n",
       "\n",
       "    .dataframe thead th {\n",
       "        text-align: right;\n",
       "    }\n",
       "</style>\n",
       "<table border=\"1\" class=\"dataframe\">\n",
       "  <thead>\n",
       "    <tr style=\"text-align: right;\">\n",
       "      <th></th>\n",
       "      <th>A</th>\n",
       "      <th>B</th>\n",
       "    </tr>\n",
       "  </thead>\n",
       "  <tbody>\n",
       "    <tr>\n",
       "      <th>2013-01-01</th>\n",
       "      <td>-0.973772</td>\n",
       "      <td>-1.155747</td>\n",
       "    </tr>\n",
       "    <tr>\n",
       "      <th>2013-01-02</th>\n",
       "      <td>2.355028</td>\n",
       "      <td>0.558283</td>\n",
       "    </tr>\n",
       "    <tr>\n",
       "      <th>2013-01-03</th>\n",
       "      <td>-0.688987</td>\n",
       "      <td>0.438071</td>\n",
       "    </tr>\n",
       "    <tr>\n",
       "      <th>2013-01-04</th>\n",
       "      <td>-0.651374</td>\n",
       "      <td>-0.467439</td>\n",
       "    </tr>\n",
       "    <tr>\n",
       "      <th>2013-01-05</th>\n",
       "      <td>-1.251646</td>\n",
       "      <td>-0.827207</td>\n",
       "    </tr>\n",
       "    <tr>\n",
       "      <th>2013-01-06</th>\n",
       "      <td>-2.795756</td>\n",
       "      <td>1.960629</td>\n",
       "    </tr>\n",
       "  </tbody>\n",
       "</table>\n",
       "</div>"
      ],
      "text/plain": [
       "                   A         B\n",
       "2013-01-01 -0.973772 -1.155747\n",
       "2013-01-02  2.355028  0.558283\n",
       "2013-01-03 -0.688987  0.438071\n",
       "2013-01-04 -0.651374 -0.467439\n",
       "2013-01-05 -1.251646 -0.827207\n",
       "2013-01-06 -2.795756  1.960629"
      ]
     },
     "execution_count": 79,
     "metadata": {},
     "output_type": "execute_result"
    }
   ],
   "source": [
    "df.loc[:,['A','B']]"
   ]
  },
  {
   "cell_type": "code",
   "execution_count": 82,
   "metadata": {},
   "outputs": [
    {
     "data": {
      "text/html": [
       "<div>\n",
       "<style scoped>\n",
       "    .dataframe tbody tr th:only-of-type {\n",
       "        vertical-align: middle;\n",
       "    }\n",
       "\n",
       "    .dataframe tbody tr th {\n",
       "        vertical-align: top;\n",
       "    }\n",
       "\n",
       "    .dataframe thead th {\n",
       "        text-align: right;\n",
       "    }\n",
       "</style>\n",
       "<table border=\"1\" class=\"dataframe\">\n",
       "  <thead>\n",
       "    <tr style=\"text-align: right;\">\n",
       "      <th></th>\n",
       "      <th>A</th>\n",
       "      <th>B</th>\n",
       "    </tr>\n",
       "  </thead>\n",
       "  <tbody>\n",
       "    <tr>\n",
       "      <th>2013-01-01</th>\n",
       "      <td>-0.973772</td>\n",
       "      <td>-1.155747</td>\n",
       "    </tr>\n",
       "    <tr>\n",
       "      <th>2013-01-02</th>\n",
       "      <td>2.355028</td>\n",
       "      <td>0.558283</td>\n",
       "    </tr>\n",
       "    <tr>\n",
       "      <th>2013-01-03</th>\n",
       "      <td>-0.688987</td>\n",
       "      <td>0.438071</td>\n",
       "    </tr>\n",
       "    <tr>\n",
       "      <th>2013-01-04</th>\n",
       "      <td>-0.651374</td>\n",
       "      <td>-0.467439</td>\n",
       "    </tr>\n",
       "    <tr>\n",
       "      <th>2013-01-05</th>\n",
       "      <td>-1.251646</td>\n",
       "      <td>-0.827207</td>\n",
       "    </tr>\n",
       "  </tbody>\n",
       "</table>\n",
       "</div>"
      ],
      "text/plain": [
       "                   A         B\n",
       "2013-01-01 -0.973772 -1.155747\n",
       "2013-01-02  2.355028  0.558283\n",
       "2013-01-03 -0.688987  0.438071\n",
       "2013-01-04 -0.651374 -0.467439\n",
       "2013-01-05 -1.251646 -0.827207"
      ]
     },
     "execution_count": 82,
     "metadata": {},
     "output_type": "execute_result"
    }
   ],
   "source": [
    "df.loc['20130101':'20130105',['A','B']]"
   ]
  },
  {
   "cell_type": "code",
   "execution_count": 85,
   "metadata": {},
   "outputs": [
    {
     "data": {
      "text/html": [
       "<div>\n",
       "<style scoped>\n",
       "    .dataframe tbody tr th:only-of-type {\n",
       "        vertical-align: middle;\n",
       "    }\n",
       "\n",
       "    .dataframe tbody tr th {\n",
       "        vertical-align: top;\n",
       "    }\n",
       "\n",
       "    .dataframe thead th {\n",
       "        text-align: right;\n",
       "    }\n",
       "</style>\n",
       "<table border=\"1\" class=\"dataframe\">\n",
       "  <thead>\n",
       "    <tr style=\"text-align: right;\">\n",
       "      <th></th>\n",
       "      <th>D</th>\n",
       "      <th>C</th>\n",
       "      <th>B</th>\n",
       "      <th>A</th>\n",
       "    </tr>\n",
       "  </thead>\n",
       "  <tbody>\n",
       "    <tr>\n",
       "      <th>2013-01-01</th>\n",
       "      <td>0.768037</td>\n",
       "      <td>1.417846</td>\n",
       "      <td>-1.155747</td>\n",
       "      <td>-0.973772</td>\n",
       "    </tr>\n",
       "    <tr>\n",
       "      <th>2013-01-02</th>\n",
       "      <td>-1.980178</td>\n",
       "      <td>-0.776693</td>\n",
       "      <td>0.558283</td>\n",
       "      <td>2.355028</td>\n",
       "    </tr>\n",
       "    <tr>\n",
       "      <th>2013-01-03</th>\n",
       "      <td>0.265073</td>\n",
       "      <td>0.901540</td>\n",
       "      <td>0.438071</td>\n",
       "      <td>-0.688987</td>\n",
       "    </tr>\n",
       "    <tr>\n",
       "      <th>2013-01-04</th>\n",
       "      <td>-1.635981</td>\n",
       "      <td>0.776919</td>\n",
       "      <td>-0.467439</td>\n",
       "      <td>-0.651374</td>\n",
       "    </tr>\n",
       "    <tr>\n",
       "      <th>2013-01-05</th>\n",
       "      <td>1.290872</td>\n",
       "      <td>-0.296087</td>\n",
       "      <td>-0.827207</td>\n",
       "      <td>-1.251646</td>\n",
       "    </tr>\n",
       "    <tr>\n",
       "      <th>2013-01-06</th>\n",
       "      <td>-0.139755</td>\n",
       "      <td>-0.114772</td>\n",
       "      <td>1.960629</td>\n",
       "      <td>-2.795756</td>\n",
       "    </tr>\n",
       "  </tbody>\n",
       "</table>\n",
       "</div>"
      ],
      "text/plain": [
       "                   D         C         B         A\n",
       "2013-01-01  0.768037  1.417846 -1.155747 -0.973772\n",
       "2013-01-02 -1.980178 -0.776693  0.558283  2.355028\n",
       "2013-01-03  0.265073  0.901540  0.438071 -0.688987\n",
       "2013-01-04 -1.635981  0.776919 -0.467439 -0.651374\n",
       "2013-01-05  1.290872 -0.296087 -0.827207 -1.251646\n",
       "2013-01-06 -0.139755 -0.114772  1.960629 -2.795756"
      ]
     },
     "execution_count": 85,
     "metadata": {},
     "output_type": "execute_result"
    }
   ],
   "source": [
    "df.sort_index(axis=1,ascending=False)"
   ]
  },
  {
   "cell_type": "code",
   "execution_count": 95,
   "metadata": {},
   "outputs": [
    {
     "name": "stdout",
     "output_type": "stream",
     "text": [
      "2012-01-01    0.560532\n",
      "2012-01-02    1.777569\n",
      "2012-01-03   -0.735124\n",
      "2012-01-04    0.950268\n",
      "2012-01-05    0.406308\n",
      "2012-01-06    0.769906\n",
      "2012-01-07    1.061100\n",
      "2012-01-08   -1.274299\n",
      "2012-01-09   -1.125368\n",
      "2012-01-10    1.533317\n",
      "Freq: D, dtype: float64\n"
     ]
    },
    {
     "data": {
      "text/plain": [
       "<matplotlib.axes._subplots.AxesSubplot at 0xdd8c1d0>"
      ]
     },
     "execution_count": 95,
     "metadata": {},
     "output_type": "execute_result"
    },
    {
     "data": {
      "image/png": "[encoded data removed]",
      "text/plain": [
       "<matplotlib.figure.Figure at 0xdd977f0>"
      ]
     },
     "metadata": {},
     "output_type": "display_data"
    }
   ],
   "source": [
    "ts = pd.Series(np.random.randn(1000),index=pd.date_range('1/1/2012',periods=1000))\n",
    "print(ts.head(10))\n",
    "ts = ts.cumsum()\n",
    "ts.plot()"
   ]
  },
  {
   "cell_type": "code",
   "execution_count": 97,
   "metadata": {},
   "outputs": [],
   "source": [
    "ts.to_csv('data.csv')"
   ]
  },
  {
   "cell_type": "code",
   "execution_count": 113,
   "metadata": {},
   "outputs": [
    {
     "name": "stdout",
     "output_type": "stream",
     "text": [
      "array([[[[-0.02409143,  0.72686283, -0.12564432, -0.48077409,\n",
      "           0.01375128, -0.37483727,  1.45062527,  0.71001081],\n",
      "         [ 0.9297065 ,  0.69369998, -0.4280457 , -1.2669068 ,\n",
      "           0.87608678, -1.39302363, -0.99225588, -1.10363817]],\n",
      "\n",
      "        [[ 0.24384382,  0.54569692,  1.16565058, -0.25424382,\n",
      "          -1.08336124,  0.24671428, -0.05776375,  0.44777805],\n",
      "         [-0.02765745,  0.91287295,  1.91569872,  0.94507403,\n",
      "          -0.88105976, -0.06620511,  0.50245754, -0.07540116]],\n",
      "\n",
      "        [[ 0.86496501,  0.30878241, -1.21498072, -0.39412234,\n",
      "           0.94995788,  1.46110941, -0.27764049, -0.18453902],\n",
      "         [ 1.34198125, -0.04340249, -1.49419978,  0.00968381,\n",
      "          -0.38061238, -0.36533348, -2.28298756, -0.6710929 ]],\n",
      "\n",
      "        [[-1.45368291,  0.96889736,  1.42776511,  1.10315141,\n",
      "          -0.43720191, -0.73557066, -1.34899144,  1.11668133],\n",
      "         [-0.0218868 , -0.08415132,  0.24274592, -0.1793902 ,\n",
      "          -0.24856767,  0.44561783,  1.13026906, -0.21330447]]],\n",
      "\n",
      "\n",
      "       [[[-0.213713  , -0.74156793, -0.09011124,  1.74088824,\n",
      "           0.63308925,  0.97532504,  0.18562425,  1.2183199 ],\n",
      "         [ 2.89123038, -2.35713825, -0.20808673,  1.98550794,\n",
      "           0.15006683, -0.57280092, -1.10591607, -0.29521666]],\n",
      "\n",
      "        [[-1.01221758, -1.54019059,  2.66110474, -0.03524088,\n",
      "          -0.2594264 ,  0.74331898, -0.04626718,  0.14146943],\n",
      "         [-0.62802643,  2.78412824,  0.56388391,  0.97041719,\n",
      "          -0.08030191,  0.03591994,  1.53721695, -0.79727916]],\n",
      "\n",
      "        [[ 0.07683296, -0.01437422,  0.20841311, -0.04444415,\n",
      "          -0.15176257,  0.86051692,  0.96503438, -0.93042995],\n",
      "         [-0.84949976,  2.63963938, -0.21983169, -0.17923194,\n",
      "           2.15941262,  0.14440759,  0.49249262, -0.7862542 ]],\n",
      "\n",
      "        [[-0.44719637, -2.47597664,  0.72374294, -1.34640052,\n",
      "           0.21022506,  0.10870351,  0.54971759, -0.72117414],\n",
      "         [ 1.79513129, -0.38169108,  1.42985273,  0.55550138,\n",
      "          -0.71334389, -0.81303634, -1.32477288, -0.23623487]]]])\n"
     ]
    },
    {
     "data": {
      "text/plain": [
       "<matplotlib.figure.Figure at 0x1154f240>"
      ]
     },
     "metadata": {},
     "output_type": "display_data"
    },
    {
     "data": {
      "image/png": "[encoded data removed]",
      "text/plain": [
       "<matplotlib.figure.Figure at 0x1154fa90>"
      ]
     },
     "metadata": {},
     "output_type": "display_data"
    }
   ],
   "source": [
    "import matplotlib.pyplot as plt\n",
    "from pprint import pprint\n",
    "df=pd.DataFrame(np.random.randn(1000,4),ts.index,columns=['A','B','C','D'])\n",
    "df = df.cumsum()\n",
    "plt.figure()\n",
    "df.plot()\n",
    "pprint(np.random.randn(2,4,2,8))"
   ]
  }
 ],
 "metadata": {
  "kernelspec": {
   "display_name": "Python 3",
   "language": "python",
   "name": "python3"
  },
  "language_info": {
   "codemirror_mode": {
    "name": "ipython",
    "version": 3
   },
   "file_extension": ".py",
   "mimetype": "text/x-python",
   "name": "python",
   "nbconvert_exporter": "python",
   "pygments_lexer": "ipython3",
   "version": "3.6.4"
  }
 },
 "nbformat": 4,
 "nbformat_minor": 2
}
