{
 "cells": [
  {
   "cell_type": "code",
   "execution_count": 2,
   "metadata": {},
   "outputs": [
    {
     "data": {
      "image/png": "[encoded data removed]",
      "text/plain": [
       "<matplotlib.figure.Figure at 0x875c630>"
      ]
     },
     "metadata": {},
     "output_type": "display_data"
    }
   ],
   "source": [
    "import pandas as pd\n",
    "import numpy as np\n",
    "import matplotlib.pyplot as plt\n",
    "\n",
    "data = {\n",
    "    'DATE':['2017/01','2017/02','2017/03','2017/04','2017/05','2017/06','2017/07','2017/08','2017/09','2017/10','2017/11','2017/12'],\n",
    "    'rate':[2.4,3,4,2,1.5,3.2,1.5,3.1,3.9,2.4,3,2.7]\n",
    "}\n",
    "plt.plot(data['DATE'],data['rate'])\n",
    "plt.xticks(rotation=45)\n",
    "plt.xlabel('Month')\n",
    "plt.ylabel('Rate')\n",
    "plt.title(u'2017')\n",
    "#plt.show()\n",
    "plt.savefig('one.png')"
   ]
  },
  {
   "cell_type": "code",
   "execution_count": 3,
   "metadata": {},
   "outputs": [
    {
     "name": "stdout",
     "output_type": "stream",
     "text": [
      "DatetimeIndex(['2013-01-01', '2013-01-02', '2013-01-03', '2013-01-04',\n",
      "               '2013-01-05', '2013-01-06'],\n",
      "              dtype='datetime64[ns]', freq='D')\n"
     ]
    }
   ],
   "source": [
    "dates = pd.date_range('20130101',periods=6)\n",
    "print(dates)"
   ]
  },
  {
   "cell_type": "code",
   "execution_count": 4,
   "metadata": {},
   "outputs": [
    {
     "name": "stdout",
     "output_type": "stream",
     "text": [
      "                   A         B         C         D\n",
      "2013-01-01  0.629983  0.285300  0.040369 -0.334900\n",
      "2013-01-02 -1.019164  0.100256  0.669195  0.268945\n",
      "2013-01-03  0.242663 -0.221976  1.270557  1.455156\n",
      "2013-01-04 -0.600337  0.981645 -2.058801 -1.023619\n",
      "2013-01-05  0.806687  0.423743 -2.080585  0.287559\n",
      "2013-01-06  1.287505 -1.712184 -1.185474 -0.899950\n",
      "[[-0.50840374  0.78104702  1.67519984  0.19525964  0.52479475  0.28611419\n",
      "   0.23330829  1.60232705]\n",
      " [-0.03381732  0.14504202 -0.08578154  0.59318243 -0.74131897 -0.56482935\n",
      "   0.17357694  0.82899648]\n",
      " [ 0.77422404 -0.48561056  2.02179893 -0.36507137  0.57218348  0.10732226\n",
      "   0.42496075  0.28804626]]\n"
     ]
    }
   ],
   "source": [
    "df = pd.DataFrame(np.random.randn(6,4),index=dates,columns=list('ABCD'))\n",
    "print(df)\n",
    "#生成3行8列的随机数\n",
    "print(np.random.randn(3,8))"
   ]
  },
  {
   "cell_type": "code",
   "execution_count": 5,
   "metadata": {},
   "outputs": [
    {
     "name": "stdout",
     "output_type": "stream",
     "text": [
      "     A          B    C  D      E    F\n",
      "0  1.0 2012-01-01  1.0  3   test  foo\n",
      "1  1.0 2012-01-01  1.0  3  train  foo\n",
      "2  1.0 2012-01-01  1.0  3   test  foo\n",
      "3  1.0 2012-01-01  1.0  3  train  foo\n",
      "A           float64\n",
      "B    datetime64[ns]\n",
      "C           float32\n",
      "D             int32\n",
      "E          category\n",
      "F            object\n",
      "dtype: object\n"
     ]
    }
   ],
   "source": [
    "df2 = pd.DataFrame({'A':1.,\n",
    "                    'B':pd.Timestamp('20120101'),\n",
    "                    'C':pd.Series(1,index=list(range(4)),dtype='float32'),\n",
    "                    'D':np.array([3]*4,dtype='int32'),\n",
    "                    'E':pd.Categorical(['test','train','test','train']),\n",
    "                    'F':'foo'\n",
    "                   })\n",
    "print(df2)\n",
    "print(df2.dtypes)"
   ]
  },
  {
   "cell_type": "code",
   "execution_count": 6,
   "metadata": {},
   "outputs": [
    {
     "data": {
      "text/html": [
       "<div>\n",
       "<style scoped>\n",
       "    .dataframe tbody tr th:only-of-type {\n",
       "        vertical-align: middle;\n",
       "    }\n",
       "\n",
       "    .dataframe tbody tr th {\n",
       "        vertical-align: top;\n",
       "    }\n",
       "\n",
       "    .dataframe thead th {\n",
       "        text-align: right;\n",
       "    }\n",
       "</style>\n",
       "<table border=\"1\" class=\"dataframe\">\n",
       "  <thead>\n",
       "    <tr style=\"text-align: right;\">\n",
       "      <th></th>\n",
       "      <th>A</th>\n",
       "      <th>B</th>\n",
       "      <th>C</th>\n",
       "      <th>D</th>\n",
       "    </tr>\n",
       "  </thead>\n",
       "  <tbody>\n",
       "    <tr>\n",
       "      <th>2013-01-01</th>\n",
       "      <td>0.629983</td>\n",
       "      <td>0.285300</td>\n",
       "      <td>0.040369</td>\n",
       "      <td>-0.334900</td>\n",
       "    </tr>\n",
       "    <tr>\n",
       "      <th>2013-01-02</th>\n",
       "      <td>-1.019164</td>\n",
       "      <td>0.100256</td>\n",
       "      <td>0.669195</td>\n",
       "      <td>0.268945</td>\n",
       "    </tr>\n",
       "    <tr>\n",
       "      <th>2013-01-03</th>\n",
       "      <td>0.242663</td>\n",
       "      <td>-0.221976</td>\n",
       "      <td>1.270557</td>\n",
       "      <td>1.455156</td>\n",
       "    </tr>\n",
       "    <tr>\n",
       "      <th>2013-01-04</th>\n",
       "      <td>-0.600337</td>\n",
       "      <td>0.981645</td>\n",
       "      <td>-2.058801</td>\n",
       "      <td>-1.023619</td>\n",
       "    </tr>\n",
       "    <tr>\n",
       "      <th>2013-01-05</th>\n",
       "      <td>0.806687</td>\n",
       "      <td>0.423743</td>\n",
       "      <td>-2.080585</td>\n",
       "      <td>0.287559</td>\n",
       "    </tr>\n",
       "  </tbody>\n",
       "</table>\n",
       "</div>"
      ],
      "text/plain": [
       "                   A         B         C         D\n",
       "2013-01-01  0.629983  0.285300  0.040369 -0.334900\n",
       "2013-01-02 -1.019164  0.100256  0.669195  0.268945\n",
       "2013-01-03  0.242663 -0.221976  1.270557  1.455156\n",
       "2013-01-04 -0.600337  0.981645 -2.058801 -1.023619\n",
       "2013-01-05  0.806687  0.423743 -2.080585  0.287559"
      ]
     },
     "execution_count": 6,
     "metadata": {},
     "output_type": "execute_result"
    }
   ],
   "source": [
    "df.head()"
   ]
  },
  {
   "cell_type": "code",
   "execution_count": 7,
   "metadata": {},
   "outputs": [
    {
     "data": {
      "text/html": [
       "<div>\n",
       "<style scoped>\n",
       "    .dataframe tbody tr th:only-of-type {\n",
       "        vertical-align: middle;\n",
       "    }\n",
       "\n",
       "    .dataframe tbody tr th {\n",
       "        vertical-align: top;\n",
       "    }\n",
       "\n",
       "    .dataframe thead th {\n",
       "        text-align: right;\n",
       "    }\n",
       "</style>\n",
       "<table border=\"1\" class=\"dataframe\">\n",
       "  <thead>\n",
       "    <tr style=\"text-align: right;\">\n",
       "      <th></th>\n",
       "      <th>A</th>\n",
       "      <th>B</th>\n",
       "      <th>C</th>\n",
       "      <th>D</th>\n",
       "    </tr>\n",
       "  </thead>\n",
       "  <tbody>\n",
       "    <tr>\n",
       "      <th>count</th>\n",
       "      <td>6.000000</td>\n",
       "      <td>6.000000</td>\n",
       "      <td>6.000000</td>\n",
       "      <td>6.000000</td>\n",
       "    </tr>\n",
       "    <tr>\n",
       "      <th>mean</th>\n",
       "      <td>0.224556</td>\n",
       "      <td>-0.023869</td>\n",
       "      <td>-0.557457</td>\n",
       "      <td>-0.041135</td>\n",
       "    </tr>\n",
       "    <tr>\n",
       "      <th>std</th>\n",
       "      <td>0.878718</td>\n",
       "      <td>0.917830</td>\n",
       "      <td>1.426328</td>\n",
       "      <td>0.920023</td>\n",
       "    </tr>\n",
       "    <tr>\n",
       "      <th>min</th>\n",
       "      <td>-1.019164</td>\n",
       "      <td>-1.712184</td>\n",
       "      <td>-2.080585</td>\n",
       "      <td>-1.023619</td>\n",
       "    </tr>\n",
       "    <tr>\n",
       "      <th>25%</th>\n",
       "      <td>-0.389587</td>\n",
       "      <td>-0.141418</td>\n",
       "      <td>-1.840470</td>\n",
       "      <td>-0.758688</td>\n",
       "    </tr>\n",
       "    <tr>\n",
       "      <th>50%</th>\n",
       "      <td>0.436323</td>\n",
       "      <td>0.192778</td>\n",
       "      <td>-0.572552</td>\n",
       "      <td>-0.032978</td>\n",
       "    </tr>\n",
       "    <tr>\n",
       "      <th>75%</th>\n",
       "      <td>0.762511</td>\n",
       "      <td>0.389132</td>\n",
       "      <td>0.511988</td>\n",
       "      <td>0.282905</td>\n",
       "    </tr>\n",
       "    <tr>\n",
       "      <th>max</th>\n",
       "      <td>1.287505</td>\n",
       "      <td>0.981645</td>\n",
       "      <td>1.270557</td>\n",
       "      <td>1.455156</td>\n",
       "    </tr>\n",
       "  </tbody>\n",
       "</table>\n",
       "</div>"
      ],
      "text/plain": [
       "              A         B         C         D\n",
       "count  6.000000  6.000000  6.000000  6.000000\n",
       "mean   0.224556 -0.023869 -0.557457 -0.041135\n",
       "std    0.878718  0.917830  1.426328  0.920023\n",
       "min   -1.019164 -1.712184 -2.080585 -1.023619\n",
       "25%   -0.389587 -0.141418 -1.840470 -0.758688\n",
       "50%    0.436323  0.192778 -0.572552 -0.032978\n",
       "75%    0.762511  0.389132  0.511988  0.282905\n",
       "max    1.287505  0.981645  1.270557  1.455156"
      ]
     },
     "execution_count": 7,
     "metadata": {},
     "output_type": "execute_result"
    }
   ],
   "source": [
    "df.describe()"
   ]
  },
  {
   "cell_type": "code",
   "execution_count": 8,
   "metadata": {},
   "outputs": [
    {
     "data": {
      "text/plain": [
       "2013-01-01    0.629983\n",
       "2013-01-02   -1.019164\n",
       "2013-01-03    0.242663\n",
       "2013-01-04   -0.600337\n",
       "2013-01-05    0.806687\n",
       "2013-01-06    1.287505\n",
       "Freq: D, Name: A, dtype: float64"
      ]
     },
     "execution_count": 8,
     "metadata": {},
     "output_type": "execute_result"
    }
   ],
   "source": [
    "df['A']"
   ]
  },
  {
   "cell_type": "code",
   "execution_count": 9,
   "metadata": {},
   "outputs": [
    {
     "data": {
      "text/html": [
       "<div>\n",
       "<style scoped>\n",
       "    .dataframe tbody tr th:only-of-type {\n",
       "        vertical-align: middle;\n",
       "    }\n",
       "\n",
       "    .dataframe tbody tr th {\n",
       "        vertical-align: top;\n",
       "    }\n",
       "\n",
       "    .dataframe thead th {\n",
       "        text-align: right;\n",
       "    }\n",
       "</style>\n",
       "<table border=\"1\" class=\"dataframe\">\n",
       "  <thead>\n",
       "    <tr style=\"text-align: right;\">\n",
       "      <th></th>\n",
       "      <th>A</th>\n",
       "      <th>B</th>\n",
       "      <th>C</th>\n",
       "      <th>D</th>\n",
       "    </tr>\n",
       "  </thead>\n",
       "  <tbody>\n",
       "    <tr>\n",
       "      <th>2013-01-01</th>\n",
       "      <td>0.629983</td>\n",
       "      <td>0.285300</td>\n",
       "      <td>0.040369</td>\n",
       "      <td>-0.334900</td>\n",
       "    </tr>\n",
       "    <tr>\n",
       "      <th>2013-01-02</th>\n",
       "      <td>-1.019164</td>\n",
       "      <td>0.100256</td>\n",
       "      <td>0.669195</td>\n",
       "      <td>0.268945</td>\n",
       "    </tr>\n",
       "    <tr>\n",
       "      <th>2013-01-03</th>\n",
       "      <td>0.242663</td>\n",
       "      <td>-0.221976</td>\n",
       "      <td>1.270557</td>\n",
       "      <td>1.455156</td>\n",
       "    </tr>\n",
       "  </tbody>\n",
       "</table>\n",
       "</div>"
      ],
      "text/plain": [
       "                   A         B         C         D\n",
       "2013-01-01  0.629983  0.285300  0.040369 -0.334900\n",
       "2013-01-02 -1.019164  0.100256  0.669195  0.268945\n",
       "2013-01-03  0.242663 -0.221976  1.270557  1.455156"
      ]
     },
     "execution_count": 9,
     "metadata": {},
     "output_type": "execute_result"
    }
   ],
   "source": [
    "df[0:3]"
   ]
  },
  {
   "cell_type": "code",
   "execution_count": 10,
   "metadata": {},
   "outputs": [
    {
     "data": {
      "text/plain": [
       "A    0.629983\n",
       "B    0.285300\n",
       "C    0.040369\n",
       "D   -0.334900\n",
       "Name: 2013-01-01 00:00:00, dtype: float64"
      ]
     },
     "execution_count": 10,
     "metadata": {},
     "output_type": "execute_result"
    }
   ],
   "source": [
    "df.loc[dates[0]]"
   ]
  },
  {
   "cell_type": "markdown",
   "metadata": {},
   "source": [
    "行全部取出，列取出A和B"
   ]
  },
  {
   "cell_type": "code",
   "execution_count": 11,
   "metadata": {
    "scrolled": true
   },
   "outputs": [
    {
     "data": {
      "text/html": [
       "<div>\n",
       "<style scoped>\n",
       "    .dataframe tbody tr th:only-of-type {\n",
       "        vertical-align: middle;\n",
       "    }\n",
       "\n",
       "    .dataframe tbody tr th {\n",
       "        vertical-align: top;\n",
       "    }\n",
       "\n",
       "    .dataframe thead th {\n",
       "        text-align: right;\n",
       "    }\n",
       "</style>\n",
       "<table border=\"1\" class=\"dataframe\">\n",
       "  <thead>\n",
       "    <tr style=\"text-align: right;\">\n",
       "      <th></th>\n",
       "      <th>A</th>\n",
       "      <th>B</th>\n",
       "    </tr>\n",
       "  </thead>\n",
       "  <tbody>\n",
       "    <tr>\n",
       "      <th>2013-01-01</th>\n",
       "      <td>0.629983</td>\n",
       "      <td>0.285300</td>\n",
       "    </tr>\n",
       "    <tr>\n",
       "      <th>2013-01-02</th>\n",
       "      <td>-1.019164</td>\n",
       "      <td>0.100256</td>\n",
       "    </tr>\n",
       "    <tr>\n",
       "      <th>2013-01-03</th>\n",
       "      <td>0.242663</td>\n",
       "      <td>-0.221976</td>\n",
       "    </tr>\n",
       "    <tr>\n",
       "      <th>2013-01-04</th>\n",
       "      <td>-0.600337</td>\n",
       "      <td>0.981645</td>\n",
       "    </tr>\n",
       "    <tr>\n",
       "      <th>2013-01-05</th>\n",
       "      <td>0.806687</td>\n",
       "      <td>0.423743</td>\n",
       "    </tr>\n",
       "    <tr>\n",
       "      <th>2013-01-06</th>\n",
       "      <td>1.287505</td>\n",
       "      <td>-1.712184</td>\n",
       "    </tr>\n",
       "  </tbody>\n",
       "</table>\n",
       "</div>"
      ],
      "text/plain": [
       "                   A         B\n",
       "2013-01-01  0.629983  0.285300\n",
       "2013-01-02 -1.019164  0.100256\n",
       "2013-01-03  0.242663 -0.221976\n",
       "2013-01-04 -0.600337  0.981645\n",
       "2013-01-05  0.806687  0.423743\n",
       "2013-01-06  1.287505 -1.712184"
      ]
     },
     "execution_count": 11,
     "metadata": {},
     "output_type": "execute_result"
    }
   ],
   "source": [
    "df.loc[:,['A','B']]"
   ]
  },
  {
   "cell_type": "code",
   "execution_count": 12,
   "metadata": {},
   "outputs": [
    {
     "data": {
      "text/html": [
       "<div>\n",
       "<style scoped>\n",
       "    .dataframe tbody tr th:only-of-type {\n",
       "        vertical-align: middle;\n",
       "    }\n",
       "\n",
       "    .dataframe tbody tr th {\n",
       "        vertical-align: top;\n",
       "    }\n",
       "\n",
       "    .dataframe thead th {\n",
       "        text-align: right;\n",
       "    }\n",
       "</style>\n",
       "<table border=\"1\" class=\"dataframe\">\n",
       "  <thead>\n",
       "    <tr style=\"text-align: right;\">\n",
       "      <th></th>\n",
       "      <th>A</th>\n",
       "      <th>B</th>\n",
       "    </tr>\n",
       "  </thead>\n",
       "  <tbody>\n",
       "    <tr>\n",
       "      <th>2013-01-01</th>\n",
       "      <td>0.629983</td>\n",
       "      <td>0.285300</td>\n",
       "    </tr>\n",
       "    <tr>\n",
       "      <th>2013-01-02</th>\n",
       "      <td>-1.019164</td>\n",
       "      <td>0.100256</td>\n",
       "    </tr>\n",
       "    <tr>\n",
       "      <th>2013-01-03</th>\n",
       "      <td>0.242663</td>\n",
       "      <td>-0.221976</td>\n",
       "    </tr>\n",
       "    <tr>\n",
       "      <th>2013-01-04</th>\n",
       "      <td>-0.600337</td>\n",
       "      <td>0.981645</td>\n",
       "    </tr>\n",
       "    <tr>\n",
       "      <th>2013-01-05</th>\n",
       "      <td>0.806687</td>\n",
       "      <td>0.423743</td>\n",
       "    </tr>\n",
       "  </tbody>\n",
       "</table>\n",
       "</div>"
      ],
      "text/plain": [
       "                   A         B\n",
       "2013-01-01  0.629983  0.285300\n",
       "2013-01-02 -1.019164  0.100256\n",
       "2013-01-03  0.242663 -0.221976\n",
       "2013-01-04 -0.600337  0.981645\n",
       "2013-01-05  0.806687  0.423743"
      ]
     },
     "execution_count": 12,
     "metadata": {},
     "output_type": "execute_result"
    }
   ],
   "source": [
    "df.loc['20130101':'20130105',['A','B']]"
   ]
  },
  {
   "cell_type": "code",
   "execution_count": 13,
   "metadata": {},
   "outputs": [
    {
     "data": {
      "text/html": [
       "<div>\n",
       "<style scoped>\n",
       "    .dataframe tbody tr th:only-of-type {\n",
       "        vertical-align: middle;\n",
       "    }\n",
       "\n",
       "    .dataframe tbody tr th {\n",
       "        vertical-align: top;\n",
       "    }\n",
       "\n",
       "    .dataframe thead th {\n",
       "        text-align: right;\n",
       "    }\n",
       "</style>\n",
       "<table border=\"1\" class=\"dataframe\">\n",
       "  <thead>\n",
       "    <tr style=\"text-align: right;\">\n",
       "      <th></th>\n",
       "      <th>D</th>\n",
       "      <th>C</th>\n",
       "      <th>B</th>\n",
       "      <th>A</th>\n",
       "    </tr>\n",
       "  </thead>\n",
       "  <tbody>\n",
       "    <tr>\n",
       "      <th>2013-01-01</th>\n",
       "      <td>-0.334900</td>\n",
       "      <td>0.040369</td>\n",
       "      <td>0.285300</td>\n",
       "      <td>0.629983</td>\n",
       "    </tr>\n",
       "    <tr>\n",
       "      <th>2013-01-02</th>\n",
       "      <td>0.268945</td>\n",
       "      <td>0.669195</td>\n",
       "      <td>0.100256</td>\n",
       "      <td>-1.019164</td>\n",
       "    </tr>\n",
       "    <tr>\n",
       "      <th>2013-01-03</th>\n",
       "      <td>1.455156</td>\n",
       "      <td>1.270557</td>\n",
       "      <td>-0.221976</td>\n",
       "      <td>0.242663</td>\n",
       "    </tr>\n",
       "    <tr>\n",
       "      <th>2013-01-04</th>\n",
       "      <td>-1.023619</td>\n",
       "      <td>-2.058801</td>\n",
       "      <td>0.981645</td>\n",
       "      <td>-0.600337</td>\n",
       "    </tr>\n",
       "    <tr>\n",
       "      <th>2013-01-05</th>\n",
       "      <td>0.287559</td>\n",
       "      <td>-2.080585</td>\n",
       "      <td>0.423743</td>\n",
       "      <td>0.806687</td>\n",
       "    </tr>\n",
       "    <tr>\n",
       "      <th>2013-01-06</th>\n",
       "      <td>-0.899950</td>\n",
       "      <td>-1.185474</td>\n",
       "      <td>-1.712184</td>\n",
       "      <td>1.287505</td>\n",
       "    </tr>\n",
       "  </tbody>\n",
       "</table>\n",
       "</div>"
      ],
      "text/plain": [
       "                   D         C         B         A\n",
       "2013-01-01 -0.334900  0.040369  0.285300  0.629983\n",
       "2013-01-02  0.268945  0.669195  0.100256 -1.019164\n",
       "2013-01-03  1.455156  1.270557 -0.221976  0.242663\n",
       "2013-01-04 -1.023619 -2.058801  0.981645 -0.600337\n",
       "2013-01-05  0.287559 -2.080585  0.423743  0.806687\n",
       "2013-01-06 -0.899950 -1.185474 -1.712184  1.287505"
      ]
     },
     "execution_count": 13,
     "metadata": {},
     "output_type": "execute_result"
    }
   ],
   "source": [
    "df.sort_index(axis=1,ascending=False)"
   ]
  },
  {
   "cell_type": "code",
   "execution_count": 14,
   "metadata": {},
   "outputs": [
    {
     "name": "stdout",
     "output_type": "stream",
     "text": [
      "2012-01-01   -1.023305\n",
      "2012-01-02   -1.403474\n",
      "2012-01-03    1.642634\n",
      "2012-01-04   -0.562837\n",
      "2012-01-05   -0.048439\n",
      "2012-01-06    0.091665\n",
      "2012-01-07   -0.501064\n",
      "2012-01-08   -0.497746\n",
      "2012-01-09    0.396790\n",
      "2012-01-10   -0.887945\n",
      "Freq: D, dtype: float64\n"
     ]
    },
    {
     "data": {
      "text/plain": [
       "<matplotlib.axes._subplots.AxesSubplot at 0x93654a8>"
      ]
     },
     "execution_count": 14,
     "metadata": {},
     "output_type": "execute_result"
    },
    {
     "data": {
      "image/png": "[encoded data removed]",
      "text/plain": [
       "<matplotlib.figure.Figure at 0x935ce48>"
      ]
     },
     "metadata": {},
     "output_type": "display_data"
    }
   ],
   "source": [
    "ts = pd.Series(np.random.randn(1000),index=pd.date_range('1/1/2012',periods=1000))\n",
    "print(ts.head(10))\n",
    "ts = ts.cumsum()\n",
    "ts.plot()"
   ]
  },
  {
   "cell_type": "code",
   "execution_count": 15,
   "metadata": {},
   "outputs": [],
   "source": [
    "ts.to_csv('data.csv')"
   ]
  },
  {
   "cell_type": "code",
   "execution_count": 17,
   "metadata": {},
   "outputs": [
    {
     "name": "stdout",
     "output_type": "stream",
     "text": [
      "array([[[[ 0.55670963, -1.34216838, -0.04955385, -0.79109887,\n",
      "          -1.20487539, -1.58264832, -0.76002397, -0.17236885],\n",
      "         [-0.96101715,  0.32631837,  1.76377053, -0.55921219,\n",
      "          -0.49826808, -0.13214389,  0.51131247, -1.8696158 ]],\n",
      "\n",
      "        [[-0.9933931 ,  1.44051422, -0.7659226 , -0.93508619,\n",
      "           0.12449692,  1.5381353 ,  0.00356244, -0.54864638],\n",
      "         [-0.68760587, -0.14771304, -1.19875992, -0.44637338,\n",
      "          -0.15186196, -0.0632058 , -0.9833513 , -0.05433038]],\n",
      "\n",
      "        [[ 0.54731358, -2.29291017,  2.588495  , -0.14158356,\n",
      "           1.81779968, -1.65034814, -0.56747553,  1.16745253],\n",
      "         [ 1.81191728,  1.55204313, -0.16485861,  0.75757388,\n",
      "           0.37093781, -0.69571942, -0.64899707, -1.29311827]],\n",
      "\n",
      "        [[-0.11807359, -0.17500965, -0.19003552,  0.69021626,\n",
      "           0.1297881 , -0.19423371,  0.25422544,  0.87195916],\n",
      "         [-0.11919838, -0.5116231 , -0.60528233,  2.45350232,\n",
      "           0.84854205, -2.46474282,  1.34793962,  1.63476301]]],\n",
      "\n",
      "\n",
      "       [[[-0.88047652,  1.63240123,  1.16042293, -1.7691849 ,\n",
      "           0.00702919, -0.12607266, -0.42424438, -2.23266093],\n",
      "         [-0.21534485, -0.64980307,  0.05162767,  0.10394124,\n",
      "          -0.10011442,  0.61223049,  1.86963123,  0.54885215]],\n",
      "\n",
      "        [[-0.6855607 ,  0.23140659,  0.3064814 ,  2.29266741,\n",
      "          -0.33749644, -0.82320204,  0.1748155 ,  0.2496888 ],\n",
      "         [ 0.19860249,  0.49143048, -1.14436112,  0.27085881,\n",
      "          -0.6601945 ,  1.36572873,  0.9658083 ,  0.48627634]],\n",
      "\n",
      "        [[ 0.6185045 ,  1.7924975 ,  0.6407809 ,  1.42295171,\n",
      "           0.78695474, -0.26003751, -1.70058036,  0.13657929],\n",
      "         [ 0.27532946,  1.1248043 ,  0.86349071, -1.67200404,\n",
      "           0.21968944, -0.91872457, -1.28821864, -1.12638279]],\n",
      "\n",
      "        [[ 1.36516651,  0.67451889, -1.30251893,  1.24995381,\n",
      "          -0.58865343, -0.61870957,  0.20880877,  0.61689023],\n",
      "         [-1.50580671, -1.09171705, -0.9025139 ,  1.05924417,\n",
      "           1.04134768, -0.69691304,  0.11830715, -0.70077204]]]])\n"
     ]
    },
    {
     "data": {
      "text/plain": [
       "<matplotlib.figure.Figure at 0x97ba7f0>"
      ]
     },
     "metadata": {},
     "output_type": "display_data"
    },
    {
     "data": {
      "image/png": "[encoded data removed]",
      "text/plain": [
       "<matplotlib.figure.Figure at 0x97ae828>"
      ]
     },
     "metadata": {},
     "output_type": "display_data"
    }
   ],
   "source": [
    "import matplotlib.pyplot as plt\n",
    "from pprint import pprint\n",
    "df=pd.DataFrame(np.random.randn(1000,4),ts.index,columns=['A','B','C','D'])\n",
    "df = df.cumsum()\n",
    "plt.figure()\n",
    "df.plot()\n",
    "pprint(np.random.randn(2,4,2,8))"
   ]
  },
  {
   "cell_type": "code",
   "execution_count": 51,
   "metadata": {},
   "outputs": [
    {
     "name": "stdout",
     "output_type": "stream",
     "text": [
      "['全明星赛', '正赛', '投篮', '勇士', '球员', '指导', '明星队', '半场', '性格', '主教练', '传球', '玩命', '全队', '对方', '快船队', '三分球', '时间', '口误', '跑篮', '上篮']\n"
     ]
    }
   ],
   "source": [
    "# coding: utf-8\n",
    "import jieba.analyse as analyes\n",
    "f = open('NBA.txt','rb')  #一二进制只读打开,不然read报错\n",
    "data = f.read()\n",
    "#print(data)\n",
    "r = analyes.extract_tags(data, topK=20, withWeight=False, allowPOS=('vs','n'))\n",
    "print(r)"
   ]
  },
  {
   "cell_type": "code",
   "execution_count": 57,
   "metadata": {},
   "outputs": [
    {
     "name": "stdout",
     "output_type": "stream",
     "text": [
      "我爱你 l\n",
      "塞北 ns\n",
      "的 uj\n",
      "雪 n\n"
     ]
    }
   ],
   "source": [
    "import jieba\n",
    "import jieba.posseg as pseg\n",
    "word = '我爱你塞北的雪'\n",
    "res = pseg.cut(word)\n",
    "for w,f in res:\n",
    "    print(w, f)"
   ]
  }
 ],
 "metadata": {
  "kernelspec": {
   "display_name": "Python 3",
   "language": "python",
   "name": "python3"
  },
  "language_info": {
   "codemirror_mode": {
    "name": "ipython",
    "version": 3
   },
   "file_extension": ".py",
   "mimetype": "text/x-python",
   "name": "python",
   "nbconvert_exporter": "python",
   "pygments_lexer": "ipython3",
   "version": "3.6.4"
  }
 },
 "nbformat": 4,
 "nbformat_minor": 2
}
